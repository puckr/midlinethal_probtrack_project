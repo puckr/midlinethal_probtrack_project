{
 "cells": [
  {
   "cell_type": "code",
   "execution_count": 4,
   "metadata": {
    "collapsed": true
   },
   "outputs": [],
   "source": [
    "import subprocess as sp\n",
    "import os\n"
   ]
  },
  {
   "cell_type": "code",
   "execution_count": 2,
   "metadata": {},
   "outputs": [
    {
     "name": "stdout",
     "output_type": "stream",
     "text": [
      "(\"Files in '\", '/home/data/madlab/data/mri/hcp/kmeans/', \"' :\")\n",
      "['102816', '102311']\n"
     ]
    }
   ],
   "source": [
    "#subject_list = ['']\n",
    "path = \"/home/data/madlab/data/mri/hcp/kmeans/\"\n",
    "#subject_list = os.listdir(path)\n",
    "\n",
    "subject_list = ['102816','102311'] #done\n",
    "#subject_list = [ '101309', '101410', '101915', '101006', '101107', '100307', '108323', '119833', '138231','148335'] #done\n",
    "#subject_list = ['102008', '103111', '100408', '103414', '105115', '105216', '106319', '108121', '106521', '107422'] #done\n",
    "#subject_list = ['107321', '111716', '113619', '110411', '109123', '111312', '108525', '113821', '113215', '111413'] #done\n",
    "#subject_list = ['114419', '113922', '112819', '108828', '120212', '122317',  '118932', '121618', '122620', '120111'] #done\n",
    "#subject_list = ['123420', '124220', '123925', '128127', '126628', '128632', '126325', '127933', '124422', '124826'] #done\n",
    "#subject_list = ['125525', '127630', '123117', '118730', '115320', '117122', '118528', '116524', '117324', '120515'] #done\n",
    "#subject_list = ['131217', '130922', '131722', '130316', '131924', '129028', '137128', '130013', '137027', '136833'] #done\n",
    "#subject_list = ['133827', '133625', '135528', '136227', '133928', '133019', '132118', '134324', '135932', '135225', '158136'] #done\n",
    "#subject_list = ['138534', '139233', '137633', '141826', '142626', '142828', '139637', '144226', '143325', '140420', '156233']\n",
    "#subject_list = ['140925', '141422', '140824', '140117', '145834', '147737', '146432', '144832', '146331', '147030', '158540']\n",
    "#subject_list = ['148941', '152831', '151627', '150726', '149337', '150625', '148032', '148840', '149539', '149741', '156637']\n",
    "#subject_list = ['150423', '151223', '151728', '150524', '154734', '151526', '153429', '153833', '153025', '154431', '158035']\n",
    "#subject_list = ['154835', '155231', '155635', '154936', '157437', '159340', '159441', '159239', '157336', '160123', '159138']\n",
    "\n",
    "  \n",
    "print(\"Files in '\", path, \"' :\")  \n",
    "  \n",
    "# print the list \n",
    "print(subject_list) \n"
   ]
  },
  {
   "cell_type": "code",
   "execution_count": 6,
   "metadata": {},
   "outputs": [],
   "source": [
    "for sid in subject_list:\n",
    "    sp.Popen('sbatch -J HCP_kmeans -p centos7 --qos pq_madlab --account iacc_madlab -o /scratch/madlab/crash/hcp_kmeans_out_file2 \\\n",
    "              --wrap=\"/home/data/madlab/scripts/hcp/kmeans/hcp_pr_thalkmeans_011321.py -s {sid} -o {out_dir} -w {work_dir}\"'.format(sid=sid,\n",
    "                                                                                                                                                    out_dir='/home/data/madlab/data/mri/hcp/kmeans/kmeans_limbicthal_PR/',\n",
    "                                                                                                                                                    work_dir='/scratch/madlab/crash/hcp_kmeans_PR/'), shell=True)"
   ]
  },
  {
   "cell_type": "markdown",
   "metadata": {
    "collapsed": true
   },
   "source": [
    "for sid in subject_list:\n",
    "    sp.Popen('sbatch -J HCP_probtrackX -p centos7 --qos pq_madlab --account iacc_madlab -o /scratch/madlab/crash/hcp_out_file \\\n",
    "              --wrap=\"hcp_probtrackX_thalamusseed_PR.py --participant sid\"', shell=True)"
   ]
  },
  {
   "cell_type": "code",
   "execution_count": null,
   "metadata": {
    "collapsed": true
   },
   "outputs": [],
   "source": []
  }
 ],
 "metadata": {
  "kernelspec": {
   "display_name": "Python 2",
   "language": "python",
   "name": "python2"
  },
  "language_info": {
   "codemirror_mode": {
    "name": "ipython",
    "version": 2
   },
   "file_extension": ".py",
   "mimetype": "text/x-python",
   "name": "python",
   "nbconvert_exporter": "python",
   "pygments_lexer": "ipython2",
   "version": "2.7.13"
  }
 },
 "nbformat": 4,
 "nbformat_minor": 2
}
