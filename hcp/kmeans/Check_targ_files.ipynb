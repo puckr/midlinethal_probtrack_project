{
 "cells": [
  {
   "cell_type": "code",
   "execution_count": 1,
   "metadata": {},
   "outputs": [],
   "source": [
    "from glob import glob"
   ]
  },
  {
   "cell_type": "code",
   "execution_count": 3,
   "metadata": {},
   "outputs": [],
   "source": [
    "root_dir = '/home/data/madlab/data/mri/hcp/probtrack/thalamus_25ksamp_avoidmask_january'\n",
    "data_dir = root_dir + '/100307/thal_seed/hcpprobX/targets/_pbx20/*.nii.gz'\n",
    "targ_files = sorted(glob(data_dir))"
   ]
  },
  {
   "cell_type": "code",
   "execution_count": 4,
   "metadata": {},
   "outputs": [
    {
     "data": {
      "text/plain": [
       "['/home/data/madlab/data/mri/hcp/probtrack/thalamus_25ksamp_avoidmask_january/100307/thal_seed/hcpprobX/targets/_pbx20/seeds_to_ctx_lh_caudantcing_flirt.nii.gz',\n",
       " '/home/data/madlab/data/mri/hcp/probtrack/thalamus_25ksamp_avoidmask_january/100307/thal_seed/hcpprobX/targets/_pbx20/seeds_to_ctx_lh_entorhinal_flirt.nii.gz',\n",
       " '/home/data/madlab/data/mri/hcp/probtrack/thalamus_25ksamp_avoidmask_january/100307/thal_seed/hcpprobX/targets/_pbx20/seeds_to_ctx_lh_fusiform_flirt.nii.gz',\n",
       " '/home/data/madlab/data/mri/hcp/probtrack/thalamus_25ksamp_avoidmask_january/100307/thal_seed/hcpprobX/targets/_pbx20/seeds_to_ctx_lh_latfront_flirt.nii.gz',\n",
       " '/home/data/madlab/data/mri/hcp/probtrack/thalamus_25ksamp_avoidmask_january/100307/thal_seed/hcpprobX/targets/_pbx20/seeds_to_ctx_lh_medoccipital_flirt.nii.gz',\n",
       " '/home/data/madlab/data/mri/hcp/probtrack/thalamus_25ksamp_avoidmask_january/100307/thal_seed/hcpprobX/targets/_pbx20/seeds_to_ctx_lh_medorbfront_flirt.nii.gz',\n",
       " '/home/data/madlab/data/mri/hcp/probtrack/thalamus_25ksamp_avoidmask_january/100307/thal_seed/hcpprobX/targets/_pbx20/seeds_to_ctx_lh_medpost_flirt.nii.gz',\n",
       " '/home/data/madlab/data/mri/hcp/probtrack/thalamus_25ksamp_avoidmask_january/100307/thal_seed/hcpprobX/targets/_pbx20/seeds_to_ctx_lh_occipital_flirt.nii.gz',\n",
       " '/home/data/madlab/data/mri/hcp/probtrack/thalamus_25ksamp_avoidmask_january/100307/thal_seed/hcpprobX/targets/_pbx20/seeds_to_ctx_lh_paracentral_flirt.nii.gz',\n",
       " '/home/data/madlab/data/mri/hcp/probtrack/thalamus_25ksamp_avoidmask_january/100307/thal_seed/hcpprobX/targets/_pbx20/seeds_to_ctx_lh_parahippocampal_flirt.nii.gz',\n",
       " '/home/data/madlab/data/mri/hcp/probtrack/thalamus_25ksamp_avoidmask_january/100307/thal_seed/hcpprobX/targets/_pbx20/seeds_to_ctx_lh_parietal_flirt.nii.gz',\n",
       " '/home/data/madlab/data/mri/hcp/probtrack/thalamus_25ksamp_avoidmask_january/100307/thal_seed/hcpprobX/targets/_pbx20/seeds_to_ctx_lh_postcentral_flirt.nii.gz',\n",
       " '/home/data/madlab/data/mri/hcp/probtrack/thalamus_25ksamp_avoidmask_january/100307/thal_seed/hcpprobX/targets/_pbx20/seeds_to_ctx_lh_precentral_flirt.nii.gz',\n",
       " '/home/data/madlab/data/mri/hcp/probtrack/thalamus_25ksamp_avoidmask_january/100307/thal_seed/hcpprobX/targets/_pbx20/seeds_to_ctx_lh_rostantcing_flirt.nii.gz',\n",
       " '/home/data/madlab/data/mri/hcp/probtrack/thalamus_25ksamp_avoidmask_january/100307/thal_seed/hcpprobX/targets/_pbx20/seeds_to_ctx_lh_superfront_flirt.nii.gz',\n",
       " '/home/data/madlab/data/mri/hcp/probtrack/thalamus_25ksamp_avoidmask_january/100307/thal_seed/hcpprobX/targets/_pbx20/seeds_to_ctx_lh_temporal_flirt.nii.gz',\n",
       " '/home/data/madlab/data/mri/hcp/probtrack/thalamus_25ksamp_avoidmask_january/100307/thal_seed/hcpprobX/targets/_pbx20/seeds_to_lh_amy_flirt.nii.gz',\n",
       " '/home/data/madlab/data/mri/hcp/probtrack/thalamus_25ksamp_avoidmask_january/100307/thal_seed/hcpprobX/targets/_pbx20/seeds_to_lh_hpc_flirt.nii.gz',\n",
       " '/home/data/madlab/data/mri/hcp/probtrack/thalamus_25ksamp_avoidmask_january/100307/thal_seed/hcpprobX/targets/_pbx20/seeds_to_lh_nacc_flirt.nii.gz']"
      ]
     },
     "execution_count": 4,
     "metadata": {},
     "output_type": "execute_result"
    }
   ],
   "source": [
    "targ_files"
   ]
  },
  {
   "cell_type": "code",
   "execution_count": null,
   "metadata": {},
   "outputs": [],
   "source": []
  }
 ],
 "metadata": {
  "kernelspec": {
   "display_name": "Python 3",
   "language": "python",
   "name": "python3"
  },
  "language_info": {
   "codemirror_mode": {
    "name": "ipython",
    "version": 3
   },
   "file_extension": ".py",
   "mimetype": "text/x-python",
   "name": "python",
   "nbconvert_exporter": "python",
   "pygments_lexer": "ipython3",
   "version": "3.6.10"
  }
 },
 "nbformat": 4,
 "nbformat_minor": 4
}
