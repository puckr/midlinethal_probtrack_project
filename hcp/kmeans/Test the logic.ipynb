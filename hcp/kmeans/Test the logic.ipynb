{
 "cells": [
  {
   "cell_type": "code",
   "execution_count": 9,
   "metadata": {},
   "outputs": [],
   "source": [
    "#MTL: curr_feat[14] - 14, 15, 16, 17\n",
    "#mPFC: 8, 9\n",
    "#Control:1, 2, 4, 6, 11, 13\n",
    "\n",
    "    #curr_feat[0]   lh_precentral [1024]\n",
    "    #curr_feat[1]   lh_postcentral [1022]\n",
    "    #curr_feat[2]   lh_latfrontal [1003, 1028, 1027, 1012, 1019, 1020, 1032]\n",
    "    #curr_feat[3]   lh_postcentral [1031, 1029, 1008]\n",
    "    #curr_feat[4]   lh_temporal [1009, 1015, 1033, 1035, 1034, 1030]\n",
    "    #curr_feat[5]   lh_occipital [1011]\n",
    "    #curr_feat[6]   lh_paracentral [1017]\n",
    "    #curr_feat[7]   lh_caudantcing [1002]\n",
    "    #curr_feat[8]   lh_medorbfront[1014]\n",
    "    #curr_feat[9]   lh_rostantcing[1026]\n",
    "    #curr_feat[10]  lh_superfront[1028]\n",
    "    #curr_feat[11]  lh_medpost [1023, 1025, 1010]\n",
    "    #curr_feat[12]  lh_medoccipital[1005, 1013, 1021]\n",
    "    #curr_feat[13]  lh_fusiform[1007]\n",
    "    #curr_feat[14]  lh_entorhinal[1006]\n",
    "    #curr_feat[15]  lh_parahippocampal[1016]\n",
    "    #curr_feat[16]  lh_hpc[17]\n",
    "    #curr_feat[17]  lh_amyg[18]\n",
    "    #curr_feat[18]  lh_nucleus accumbens[26]"
   ]
  },
  {
   "cell_type": "code",
   "execution_count": 10,
   "metadata": {},
   "outputs": [],
   "source": [
    "all_features_z= [[0, 0, 0, 0, 0, 0, 0, 0, 1, 0, 0, 0, 0, 0, 0, 0, 0, 0, 0],\n",
    "                  [1, 0, 0, 1, 0, 0, 0, 0, 0, 0, 0, 0, 0, 0, 1, 0, 0, 0, 0]] #should be true true\n",
    "#                 [0, C, C, 0, C, 0, C, 0, P, P, 0, C, 0, C, T, T, 0T, T, 0]]\n"
   ]
  },
  {
   "cell_type": "code",
   "execution_count": 11,
   "metadata": {},
   "outputs": [
    {
     "name": "stdout",
     "output_type": "stream",
     "text": [
      "0 success\n",
      "1 success\n"
     ]
    }
   ],
   "source": [
    "for i, curr_feat in enumerate(all_features_z):\n",
    "    if (curr_feat[14] > 0.0 or curr_feat[15] > 0.0 or curr_feat[16] > 0.0 or curr_feat[17] > 0.0) or (curr_feat[8] > 0.0 or curr_feat[9] > 0.0) and not (curr_feat[1] > 0.0 or curr_feat[4] > 0.0 or curr_feat[6] > 0.0 or curr_feat[2] > 0.0 or curr_feat[11] > 0.0 or curr_feat[13] > 0.0):\n",
    "        print(i, \"success\")\n",
    "    else:\n",
    "        print(i, \"fail\")\n",
    "    \n"
   ]
  },
  {
   "cell_type": "code",
   "execution_count": 94,
   "metadata": {},
   "outputs": [],
   "source": [
    "#all_features_z= [[0, 0, 0, 0, 0, 0, 0, 0, 1, 1, 0, 0, 0, 0, 1, 1, 1, 1, 0]] #success\n",
    "#                [0, C, C, 0, C, 0, C, 0, P, P, 0, C, 0, C, T, T, T, T, 0]]\n",
    "all_features_z= [[1, 0, 0, 0, 0, 0, 0, 0, 0, 1, 0, 0, 0, 0, 1, 0, 0, 0, 0]]\n"
   ]
  },
  {
   "cell_type": "code",
   "execution_count": 95,
   "metadata": {},
   "outputs": [
    {
     "name": "stdout",
     "output_type": "stream",
     "text": [
      "0 success\n"
     ]
    }
   ],
   "source": [
    "for i, curr_feat in enumerate(all_features_z):\n",
    "    if ((curr_feat[9] > 0.0) and not (curr_feat[0] > 0.0 or curr_feat[1]) or (curr_feat[14] > 0.0)):\n",
    "        print(i, \"success\")\n",
    "    else:\n",
    "        print(i, \"fail\")\n",
    "    \n",
    "#(curr_feat[1] > 0.0 or curr_feat[4] > 0.0 or curr_feat[6] > 0.0 or curr_feat[2] > 0.0 or curr_feat[11] > 0.0 or curr_feat[13] > 0.0)"
   ]
  },
  {
   "cell_type": "code",
   "execution_count": 7,
   "metadata": {},
   "outputs": [
    {
     "name": "stdout",
     "output_type": "stream",
     "text": [
      "0 success\n",
      "1 fail\n",
      "2 fail\n"
     ]
    }
   ],
   "source": [
    "#test\n",
    "all_features_z= [[0, 1, 0, 0, 0, 0, 0, 0, 0, 0, 0, 0, 0, 0, 0, 0, 0, 0, 0],\n",
    "                  [1, 0, 0, 1, 0, 0, 0, 0, 0, 0, 0, 0, 0, 0, 0, 0, 0, 0, 0],\n",
    "                  [1, 0, 0, 1, 0, 0, 0, 0, 0, 0, 0, 0, 0, 0, 0, 0, 0, 0, 0]] \n",
    "\n",
    "for i, curr_feat in enumerate(all_features_z):\n",
    "    if curr_feat[1] > 0:\n",
    "        print(i, \"success\")\n",
    "    else:\n",
    "        print(i, \"fail\")\n",
    "    \n"
   ]
  },
  {
   "cell_type": "code",
   "execution_count": 11,
   "metadata": {},
   "outputs": [
    {
     "ename": "SyntaxError",
     "evalue": "invalid character in identifier (<ipython-input-11-715751cc2034>, line 3)",
     "output_type": "error",
     "traceback": [
      "\u001b[0;36m  File \u001b[0;32m\"<ipython-input-11-715751cc2034>\"\u001b[0;36m, line \u001b[0;32m3\u001b[0m\n\u001b[0;31m    Print(‘success’)\u001b[0m\n\u001b[0m                  ^\u001b[0m\n\u001b[0;31mSyntaxError\u001b[0m\u001b[0;31m:\u001b[0m invalid character in identifier\n"
     ]
    }
   ],
   "source": [
    "for i, curr_feat in enumerate(all_features_z):\n",
    "\tif (curr_feat[16] > 0.0 or curr_feat[15] > 0.0 or curr_feat[14] > 0.0 or curr_feat[17] > 0.0) or (curr_feat[8] > 0.0 or curr_feat[9] > 0.0) and not (curr_feat[1] > 0.0 or curr_feat[4] > 0.0 or curr_feat[6] > 0.0 or curr_feat[2] > 0.0 or curr_feat[11] > 0.0 or curr_feat[13] > 0.0):\n",
    "\t\tPrint(‘success’)\n",
    " \tElse\n",
    "\t\tPrint(‘failure’)\n"
   ]
  },
  {
   "cell_type": "code",
   "execution_count": null,
   "metadata": {},
   "outputs": [],
   "source": [
    "if (curr_feat[16] > 0.0 and curr_feat[15] > 0.0 and curr_feat[14] > 0.0 and curr_feat[17] > 0.0) and (curr_feat[8] > 0.0 and curr_feat[9] > 0.0) and not (curr_feat[1] > 0.0 or curr_feat[4] > 0.0 or curr_feat[6] > 0.0 or curr_feat[2] > 0.0 or curr_feat[11] > 0.0 or curr_feat[13] > 0.0):\n",
    "    curr_hemi_limbicthal_targ_clusters.append(i + 1) \n",
    "elif (curr_feat[16] > 0.0 or curr_feat[15] > 0.0 or curr_feat[14] > 0.0 or curr_feat[17] > 0.0) and (curr_feat[8] > 0.0 or curr_feat[9] > 0.0) and not (curr_feat[1] > 0.0 or curr_feat[4] > 0.0 or curr_feat[6] > 0.0 or curr_feat[2] > 0.0 or curr_feat[11] > 0.0 or curr_feat[13] > 0.0):\n",
    "    curr_hemi_limbicthal_targ_clusters.append(i + 1) \n",
    "elif (curr_feat[16] > 0.0 or curr_feat[15] > 0.0 or curr_feat[14] > 0.0 or curr_feat[17] > 0.0) or (curr_feat[8] > 0.0 or curr_feat[9] > 0.0) and not (curr_feat[1] > 0.0 or curr_feat[4] > 0.0 or curr_feat[6] > 0.0 or curr_feat[2] > 0.0 or curr_feat[11] > 0.0 or curr_feat[13] > 0.0):\n",
    "    curr_hemi_limbicthal_targ_clusters.append(i + 1) "
   ]
  }
 ],
 "metadata": {
  "kernelspec": {
   "display_name": "Python 3",
   "language": "python",
   "name": "python3"
  },
  "language_info": {
   "codemirror_mode": {
    "name": "ipython",
    "version": 3
   },
   "file_extension": ".py",
   "mimetype": "text/x-python",
   "name": "python",
   "nbconvert_exporter": "python",
   "pygments_lexer": "ipython3",
   "version": "3.6.10"
  }
 },
 "nbformat": 4,
 "nbformat_minor": 4
}
